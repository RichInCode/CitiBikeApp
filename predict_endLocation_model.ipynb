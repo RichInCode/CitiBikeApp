{
 "cells": [
  {
   "cell_type": "code",
   "execution_count": 1,
   "metadata": {
    "collapsed": true
   },
   "outputs": [],
   "source": [
    "import pandas\n",
    "import glob"
   ]
  },
  {
   "cell_type": "markdown",
   "metadata": {},
   "source": [
    "## read in data"
   ]
  },
  {
   "cell_type": "code",
   "execution_count": 2,
   "metadata": {
    "collapsed": false
   },
   "outputs": [],
   "source": [
    "df = pandas.DataFrame()\n",
    "filelist = glob.glob(\"C:\\Users\\Rich\\Documents\\GitHub\\CitiBikeApp\\data\\*.csv\")\n",
    "  \n",
    "#print filelist\n",
    "    \n",
    "#for afile in filelist[-12:-1]:\n",
    "temp_df = pandas.read_csv(filelist[0])\n",
    "try:\n",
    "    #temp_df = temp_df[['starttime','start station latitude','start station longitude']].sample(frac=0.50)\n",
    "    temp_df = temp_df[['starttime','start station name','end station name']]\n",
    "    df = pandas.concat([df, temp_df], ignore_index=True)\n",
    "except KeyError:\n",
    "    print filelist[0]"
   ]
  },
  {
   "cell_type": "markdown",
   "metadata": {},
   "source": [
    "## convert datetimes and get some relevant time information in table columns"
   ]
  },
  {
   "cell_type": "code",
   "execution_count": 3,
   "metadata": {
    "collapsed": false
   },
   "outputs": [],
   "source": [
    "#df['starttime'] = pandas.to_datetime(df['starttime'],format='%Y-%m-%d %H:%M:%S')\n",
    "#df['Datemod'] = df['starttime'].apply(lambda x: str(x.year)+str(x.month)+str(x.day))\n",
    "from datetime import datetime\n",
    "try:\n",
    "    df['starttime'] = pandas.to_datetime(df['starttime'],format='%Y-%m-%d %H:%M:%S')\n",
    "except ValueError:\n",
    "    try:\n",
    "        df['starttime'] = pandas.to_datetime(df['starttime'],format='%m/%d/%Y %H:%M:%S')\n",
    "    except ValueError:\n",
    "        df['starttime'] = pandas.to_datetime(df['starttime'])\n",
    "        #df['starttime'] = pandas.to_datetime(df['starttime'],format='%m/%d/%Y %H:%M')\n",
    "df['Year'] = df['starttime'].apply(lambda x: x.year)\n",
    "df['Month'] = df['starttime'].apply(lambda x: x.month)\n",
    "df['Day'] = df['starttime'].apply(lambda x: x.day)"
   ]
  },
  {
   "cell_type": "code",
   "execution_count": 4,
   "metadata": {
    "collapsed": false
   },
   "outputs": [
    {
     "data": {
      "text/html": [
       "<div>\n",
       "<table border=\"1\" class=\"dataframe\">\n",
       "  <thead>\n",
       "    <tr style=\"text-align: right;\">\n",
       "      <th></th>\n",
       "      <th>starttime</th>\n",
       "      <th>start station name</th>\n",
       "      <th>end station name</th>\n",
       "      <th>Year</th>\n",
       "      <th>Month</th>\n",
       "      <th>Day</th>\n",
       "    </tr>\n",
       "  </thead>\n",
       "  <tbody>\n",
       "    <tr>\n",
       "      <th>0</th>\n",
       "      <td>2013-07-01 00:00:00</td>\n",
       "      <td>E 47 St &amp; 2 Ave</td>\n",
       "      <td>1 Ave &amp; E 15 St</td>\n",
       "      <td>2013</td>\n",
       "      <td>7</td>\n",
       "      <td>1</td>\n",
       "    </tr>\n",
       "    <tr>\n",
       "      <th>1</th>\n",
       "      <td>2013-07-01 00:00:02</td>\n",
       "      <td>W 26 St &amp; 10 Ave</td>\n",
       "      <td>W 20 St &amp; 11 Ave</td>\n",
       "      <td>2013</td>\n",
       "      <td>7</td>\n",
       "      <td>1</td>\n",
       "    </tr>\n",
       "    <tr>\n",
       "      <th>2</th>\n",
       "      <td>2013-07-01 00:01:04</td>\n",
       "      <td>Lafayette St &amp; E 8 St</td>\n",
       "      <td>E 11 St &amp; 2 Ave</td>\n",
       "      <td>2013</td>\n",
       "      <td>7</td>\n",
       "      <td>1</td>\n",
       "    </tr>\n",
       "    <tr>\n",
       "      <th>3</th>\n",
       "      <td>2013-07-01 00:01:06</td>\n",
       "      <td>Forsyth St &amp; Broome St</td>\n",
       "      <td>Broadway &amp; W 60 St</td>\n",
       "      <td>2013</td>\n",
       "      <td>7</td>\n",
       "      <td>1</td>\n",
       "    </tr>\n",
       "    <tr>\n",
       "      <th>4</th>\n",
       "      <td>2013-07-01 00:01:10</td>\n",
       "      <td>University Pl &amp; E 14 St</td>\n",
       "      <td>Suffolk St &amp; Stanton St</td>\n",
       "      <td>2013</td>\n",
       "      <td>7</td>\n",
       "      <td>1</td>\n",
       "    </tr>\n",
       "  </tbody>\n",
       "</table>\n",
       "</div>"
      ],
      "text/plain": [
       "            starttime       start station name         end station name  Year  \\\n",
       "0 2013-07-01 00:00:00          E 47 St & 2 Ave          1 Ave & E 15 St  2013   \n",
       "1 2013-07-01 00:00:02         W 26 St & 10 Ave         W 20 St & 11 Ave  2013   \n",
       "2 2013-07-01 00:01:04    Lafayette St & E 8 St          E 11 St & 2 Ave  2013   \n",
       "3 2013-07-01 00:01:06   Forsyth St & Broome St       Broadway & W 60 St  2013   \n",
       "4 2013-07-01 00:01:10  University Pl & E 14 St  Suffolk St & Stanton St  2013   \n",
       "\n",
       "   Month  Day  \n",
       "0      7    1  \n",
       "1      7    1  \n",
       "2      7    1  \n",
       "3      7    1  \n",
       "4      7    1  "
      ]
     },
     "execution_count": 4,
     "metadata": {},
     "output_type": "execute_result"
    }
   ],
   "source": [
    "df.head()"
   ]
  },
  {
   "cell_type": "markdown",
   "metadata": {
    "collapsed": true
   },
   "source": [
    "## get weather information"
   ]
  },
  {
   "cell_type": "code",
   "execution_count": 14,
   "metadata": {
    "collapsed": false
   },
   "outputs": [
    {
     "data": {
      "text/html": [
       "<div>\n",
       "<table border=\"1\" class=\"dataframe\">\n",
       "  <thead>\n",
       "    <tr style=\"text-align: right;\">\n",
       "      <th></th>\n",
       "      <th>STATION</th>\n",
       "      <th>STATION_NAME</th>\n",
       "      <th>DATE</th>\n",
       "      <th>PRCP</th>\n",
       "      <th>SNWD</th>\n",
       "      <th>SNOW</th>\n",
       "      <th>TMAX</th>\n",
       "      <th>TMIN</th>\n",
       "      <th>TOBS</th>\n",
       "      <th>AWND</th>\n",
       "      <th>WT09</th>\n",
       "      <th>WT01</th>\n",
       "      <th>WT06</th>\n",
       "      <th>WT05</th>\n",
       "      <th>WT02</th>\n",
       "      <th>WT11</th>\n",
       "      <th>WT04</th>\n",
       "      <th>WT08</th>\n",
       "      <th>WT03</th>\n",
       "      <th>WT10</th>\n",
       "    </tr>\n",
       "  </thead>\n",
       "  <tbody>\n",
       "    <tr>\n",
       "      <th>0</th>\n",
       "      <td>GHCND:US1NYWC0003</td>\n",
       "      <td>WHITE PLAINS 3.1 NNW NY US</td>\n",
       "      <td>20130701</td>\n",
       "      <td>0</td>\n",
       "      <td>-9999</td>\n",
       "      <td>-9999</td>\n",
       "      <td>-9999</td>\n",
       "      <td>-9999</td>\n",
       "      <td>-9999</td>\n",
       "      <td>-9999</td>\n",
       "      <td>-9999</td>\n",
       "      <td>-9999</td>\n",
       "      <td>-9999</td>\n",
       "      <td>-9999</td>\n",
       "      <td>-9999</td>\n",
       "      <td>-9999</td>\n",
       "      <td>-9999</td>\n",
       "      <td>-9999</td>\n",
       "      <td>-9999</td>\n",
       "      <td>-9999</td>\n",
       "    </tr>\n",
       "    <tr>\n",
       "      <th>1</th>\n",
       "      <td>GHCND:US1NYWC0003</td>\n",
       "      <td>WHITE PLAINS 3.1 NNW NY US</td>\n",
       "      <td>20130702</td>\n",
       "      <td>655</td>\n",
       "      <td>-9999</td>\n",
       "      <td>-9999</td>\n",
       "      <td>-9999</td>\n",
       "      <td>-9999</td>\n",
       "      <td>-9999</td>\n",
       "      <td>-9999</td>\n",
       "      <td>-9999</td>\n",
       "      <td>-9999</td>\n",
       "      <td>-9999</td>\n",
       "      <td>-9999</td>\n",
       "      <td>-9999</td>\n",
       "      <td>-9999</td>\n",
       "      <td>-9999</td>\n",
       "      <td>-9999</td>\n",
       "      <td>-9999</td>\n",
       "      <td>-9999</td>\n",
       "    </tr>\n",
       "    <tr>\n",
       "      <th>2</th>\n",
       "      <td>GHCND:US1NYWC0003</td>\n",
       "      <td>WHITE PLAINS 3.1 NNW NY US</td>\n",
       "      <td>20130703</td>\n",
       "      <td>0</td>\n",
       "      <td>-9999</td>\n",
       "      <td>-9999</td>\n",
       "      <td>-9999</td>\n",
       "      <td>-9999</td>\n",
       "      <td>-9999</td>\n",
       "      <td>-9999</td>\n",
       "      <td>-9999</td>\n",
       "      <td>-9999</td>\n",
       "      <td>-9999</td>\n",
       "      <td>-9999</td>\n",
       "      <td>-9999</td>\n",
       "      <td>-9999</td>\n",
       "      <td>-9999</td>\n",
       "      <td>-9999</td>\n",
       "      <td>-9999</td>\n",
       "      <td>-9999</td>\n",
       "    </tr>\n",
       "    <tr>\n",
       "      <th>3</th>\n",
       "      <td>GHCND:US1NYWC0003</td>\n",
       "      <td>WHITE PLAINS 3.1 NNW NY US</td>\n",
       "      <td>20130716</td>\n",
       "      <td>0</td>\n",
       "      <td>-9999</td>\n",
       "      <td>0</td>\n",
       "      <td>-9999</td>\n",
       "      <td>-9999</td>\n",
       "      <td>-9999</td>\n",
       "      <td>-9999</td>\n",
       "      <td>-9999</td>\n",
       "      <td>-9999</td>\n",
       "      <td>-9999</td>\n",
       "      <td>-9999</td>\n",
       "      <td>-9999</td>\n",
       "      <td>-9999</td>\n",
       "      <td>-9999</td>\n",
       "      <td>-9999</td>\n",
       "      <td>-9999</td>\n",
       "      <td>-9999</td>\n",
       "    </tr>\n",
       "    <tr>\n",
       "      <th>4</th>\n",
       "      <td>GHCND:US1NYWC0003</td>\n",
       "      <td>WHITE PLAINS 3.1 NNW NY US</td>\n",
       "      <td>20130717</td>\n",
       "      <td>0</td>\n",
       "      <td>-9999</td>\n",
       "      <td>0</td>\n",
       "      <td>-9999</td>\n",
       "      <td>-9999</td>\n",
       "      <td>-9999</td>\n",
       "      <td>-9999</td>\n",
       "      <td>-9999</td>\n",
       "      <td>-9999</td>\n",
       "      <td>-9999</td>\n",
       "      <td>-9999</td>\n",
       "      <td>-9999</td>\n",
       "      <td>-9999</td>\n",
       "      <td>-9999</td>\n",
       "      <td>-9999</td>\n",
       "      <td>-9999</td>\n",
       "      <td>-9999</td>\n",
       "    </tr>\n",
       "  </tbody>\n",
       "</table>\n",
       "</div>"
      ],
      "text/plain": [
       "             STATION                STATION_NAME      DATE PRCP   SNWD   SNOW  \\\n",
       "0  GHCND:US1NYWC0003  WHITE PLAINS 3.1 NNW NY US  20130701    0  -9999  -9999   \n",
       "1  GHCND:US1NYWC0003  WHITE PLAINS 3.1 NNW NY US  20130702  655  -9999  -9999   \n",
       "2  GHCND:US1NYWC0003  WHITE PLAINS 3.1 NNW NY US  20130703    0  -9999  -9999   \n",
       "3  GHCND:US1NYWC0003  WHITE PLAINS 3.1 NNW NY US  20130716    0  -9999      0   \n",
       "4  GHCND:US1NYWC0003  WHITE PLAINS 3.1 NNW NY US  20130717    0  -9999      0   \n",
       "\n",
       "    TMAX   TMIN   TOBS   AWND   WT09   WT01   WT06   WT05   WT02   WT11  \\\n",
       "0  -9999  -9999  -9999  -9999  -9999  -9999  -9999  -9999  -9999  -9999   \n",
       "1  -9999  -9999  -9999  -9999  -9999  -9999  -9999  -9999  -9999  -9999   \n",
       "2  -9999  -9999  -9999  -9999  -9999  -9999  -9999  -9999  -9999  -9999   \n",
       "3  -9999  -9999  -9999  -9999  -9999  -9999  -9999  -9999  -9999  -9999   \n",
       "4  -9999  -9999  -9999  -9999  -9999  -9999  -9999  -9999  -9999  -9999   \n",
       "\n",
       "    WT04   WT08   WT03   WT10  \n",
       "0  -9999  -9999  -9999  -9999  \n",
       "1  -9999  -9999  -9999  -9999  \n",
       "2  -9999  -9999  -9999  -9999  \n",
       "3  -9999  -9999  -9999  -9999  \n",
       "4  -9999  -9999  -9999  -9999  "
      ]
     },
     "execution_count": 14,
     "metadata": {},
     "output_type": "execute_result"
    }
   ],
   "source": [
    "#weather data\n",
    "prcp_df = pandas.read_csv(\"C:\\Users\\Rich\\Documents\\GitHub\\CitiBikeApp\\data\\weather_data_noaa.csv\",dtype=str)\n",
    "prcp_df.head()"
   ]
  },
  {
   "cell_type": "code",
   "execution_count": 15,
   "metadata": {
    "collapsed": false
   },
   "outputs": [
    {
     "data": {
      "text/html": [
       "<div>\n",
       "<table border=\"1\" class=\"dataframe\">\n",
       "  <thead>\n",
       "    <tr style=\"text-align: right;\">\n",
       "      <th></th>\n",
       "      <th>PRCP</th>\n",
       "      <th>SNOW</th>\n",
       "      <th>Year</th>\n",
       "      <th>Month</th>\n",
       "      <th>Day</th>\n",
       "    </tr>\n",
       "  </thead>\n",
       "  <tbody>\n",
       "    <tr>\n",
       "      <th>0</th>\n",
       "      <td>213</td>\n",
       "      <td>0</td>\n",
       "      <td>2013</td>\n",
       "      <td>7</td>\n",
       "      <td>1</td>\n",
       "    </tr>\n",
       "    <tr>\n",
       "      <th>1</th>\n",
       "      <td>20</td>\n",
       "      <td>0</td>\n",
       "      <td>2013</td>\n",
       "      <td>7</td>\n",
       "      <td>2</td>\n",
       "    </tr>\n",
       "    <tr>\n",
       "      <th>2</th>\n",
       "      <td>135</td>\n",
       "      <td>0</td>\n",
       "      <td>2013</td>\n",
       "      <td>7</td>\n",
       "      <td>3</td>\n",
       "    </tr>\n",
       "    <tr>\n",
       "      <th>3</th>\n",
       "      <td>0</td>\n",
       "      <td>0</td>\n",
       "      <td>2013</td>\n",
       "      <td>7</td>\n",
       "      <td>4</td>\n",
       "    </tr>\n",
       "    <tr>\n",
       "      <th>4</th>\n",
       "      <td>0</td>\n",
       "      <td>0</td>\n",
       "      <td>2013</td>\n",
       "      <td>7</td>\n",
       "      <td>5</td>\n",
       "    </tr>\n",
       "  </tbody>\n",
       "</table>\n",
       "</div>"
      ],
      "text/plain": [
       "  PRCP SNOW  Year  Month  Day\n",
       "0  213    0  2013      7    1\n",
       "1   20    0  2013      7    2\n",
       "2  135    0  2013      7    3\n",
       "3    0    0  2013      7    4\n",
       "4    0    0  2013      7    5"
      ]
     },
     "execution_count": 15,
     "metadata": {},
     "output_type": "execute_result"
    }
   ],
   "source": [
    "prcp_df = prcp_df[prcp_df['STATION_NAME']=='NEW YORK CENTRAL PARK OBS BELVEDERE TOWER NY US'][['DATE','PRCP','SNOW']].reset_index()\n",
    "prcp_df['Year'] = prcp_df['DATE'].apply(lambda x: int(x[0:4]))\n",
    "prcp_df['Month'] = prcp_df['DATE'].apply(lambda x: int(x[4:6]))\n",
    "prcp_df['Day'] = prcp_df['DATE'].apply(lambda x: int(x[6:8]))\n",
    "prcp_df = prcp_df.drop(['index','DATE'],axis=1)\n",
    "prcp_df.head()"
   ]
  },
  {
   "cell_type": "code",
   "execution_count": 16,
   "metadata": {
    "collapsed": false
   },
   "outputs": [
    {
     "data": {
      "text/html": [
       "<div>\n",
       "<table border=\"1\" class=\"dataframe\">\n",
       "  <thead>\n",
       "    <tr style=\"text-align: right;\">\n",
       "      <th></th>\n",
       "      <th>Date</th>\n",
       "      <th>Temp</th>\n",
       "      <th>Q</th>\n",
       "      <th>Year</th>\n",
       "      <th>Month</th>\n",
       "      <th>Day</th>\n",
       "      <th>Hour</th>\n",
       "    </tr>\n",
       "  </thead>\n",
       "  <tbody>\n",
       "    <tr>\n",
       "      <th>0</th>\n",
       "      <td>2013-07-01 00:00:00</td>\n",
       "      <td>23.3</td>\n",
       "      <td>1</td>\n",
       "      <td>2013</td>\n",
       "      <td>7</td>\n",
       "      <td>1</td>\n",
       "      <td>0</td>\n",
       "    </tr>\n",
       "    <tr>\n",
       "      <th>1</th>\n",
       "      <td>2013-07-01 00:49:00</td>\n",
       "      <td>23.0</td>\n",
       "      <td>5</td>\n",
       "      <td>2013</td>\n",
       "      <td>7</td>\n",
       "      <td>1</td>\n",
       "      <td>0</td>\n",
       "    </tr>\n",
       "    <tr>\n",
       "      <th>2</th>\n",
       "      <td>2013-07-01 00:51:00</td>\n",
       "      <td>22.8</td>\n",
       "      <td>5</td>\n",
       "      <td>2013</td>\n",
       "      <td>7</td>\n",
       "      <td>1</td>\n",
       "      <td>0</td>\n",
       "    </tr>\n",
       "    <tr>\n",
       "      <th>3</th>\n",
       "      <td>2013-07-01 01:05:00</td>\n",
       "      <td>23.0</td>\n",
       "      <td>5</td>\n",
       "      <td>2013</td>\n",
       "      <td>7</td>\n",
       "      <td>1</td>\n",
       "      <td>1</td>\n",
       "    </tr>\n",
       "    <tr>\n",
       "      <th>4</th>\n",
       "      <td>2013-07-01 01:51:00</td>\n",
       "      <td>22.2</td>\n",
       "      <td>5</td>\n",
       "      <td>2013</td>\n",
       "      <td>7</td>\n",
       "      <td>1</td>\n",
       "      <td>1</td>\n",
       "    </tr>\n",
       "  </tbody>\n",
       "</table>\n",
       "</div>"
      ],
      "text/plain": [
       "                 Date  Temp Q   Year  Month  Day  Hour\n",
       "0 2013-07-01 00:00:00  23.3  1  2013      7    1     0\n",
       "1 2013-07-01 00:49:00  23.0  5  2013      7    1     0\n",
       "2 2013-07-01 00:51:00  22.8  5  2013      7    1     0\n",
       "3 2013-07-01 01:05:00  23.0  5  2013      7    1     1\n",
       "4 2013-07-01 01:51:00  22.2  5  2013      7    1     1"
      ]
     },
     "execution_count": 16,
     "metadata": {},
     "output_type": "execute_result"
    }
   ],
   "source": [
    "weather_df = pandas.read_csv(\"C:\\Users\\Rich\\Documents\\GitHub\\CitiBikeApp\\data\\jfk_temp_data.txt\",dtype=str)\n",
    "\n",
    "# convert date to datetime\n",
    "weather_df['Date'] = weather_df['Date']+' '+weather_df['HrMn']\n",
    "weather_df['Date'] = pandas.to_datetime(weather_df['Date'], format='%Y%m%d %H%M')\n",
    "weather_df = weather_df.drop('HrMn',1)\n",
    "weather_df = weather_df.drop('QCP',1)\n",
    "weather_df = weather_df.drop('USAF',1)\n",
    "weather_df = weather_df.drop('NCDC.',1)\n",
    "weather_df = weather_df.drop('I',1)\n",
    "weather_df = weather_df.drop('Type',1)\n",
    "#weather_df = weather_df.drop('Q',1)\n",
    "weather_df['Year'] = weather_df['Date'].apply(lambda x: x.year)\n",
    "weather_df['Month'] = weather_df['Date'].apply(lambda x: x.month)\n",
    "weather_df['Day'] = weather_df['Date'].apply(lambda x: x.day)\n",
    "weather_df['Hour'] = weather_df['Date'].apply(lambda x: x.hour)\n",
    "weather_df['Temp'] = weather_df['Temp'].apply(lambda x: float(x))\n",
    "weather_df.head()"
   ]
  },
  {
   "cell_type": "code",
   "execution_count": 17,
   "metadata": {
    "collapsed": false
   },
   "outputs": [
    {
     "data": {
      "text/html": [
       "<div>\n",
       "<table border=\"1\" class=\"dataframe\">\n",
       "  <thead>\n",
       "    <tr style=\"text-align: right;\">\n",
       "      <th></th>\n",
       "      <th>Year</th>\n",
       "      <th>Month</th>\n",
       "      <th>Day</th>\n",
       "      <th>avg_temp</th>\n",
       "    </tr>\n",
       "  </thead>\n",
       "  <tbody>\n",
       "    <tr>\n",
       "      <th>0</th>\n",
       "      <td>2013</td>\n",
       "      <td>7</td>\n",
       "      <td>1</td>\n",
       "      <td>22.808475</td>\n",
       "    </tr>\n",
       "    <tr>\n",
       "      <th>1</th>\n",
       "      <td>2013</td>\n",
       "      <td>7</td>\n",
       "      <td>2</td>\n",
       "      <td>22.888000</td>\n",
       "    </tr>\n",
       "    <tr>\n",
       "      <th>2</th>\n",
       "      <td>2013</td>\n",
       "      <td>7</td>\n",
       "      <td>3</td>\n",
       "      <td>23.530556</td>\n",
       "    </tr>\n",
       "    <tr>\n",
       "      <th>3</th>\n",
       "      <td>2013</td>\n",
       "      <td>7</td>\n",
       "      <td>4</td>\n",
       "      <td>25.092500</td>\n",
       "    </tr>\n",
       "    <tr>\n",
       "      <th>4</th>\n",
       "      <td>2013</td>\n",
       "      <td>7</td>\n",
       "      <td>5</td>\n",
       "      <td>25.981250</td>\n",
       "    </tr>\n",
       "  </tbody>\n",
       "</table>\n",
       "</div>"
      ],
      "text/plain": [
       "   Year  Month  Day   avg_temp\n",
       "0  2013      7    1  22.808475\n",
       "1  2013      7    2  22.888000\n",
       "2  2013      7    3  23.530556\n",
       "3  2013      7    4  25.092500\n",
       "4  2013      7    5  25.981250"
      ]
     },
     "execution_count": 17,
     "metadata": {},
     "output_type": "execute_result"
    }
   ],
   "source": [
    "test_weather_df = pandas.DataFrame({'avg_temp': weather_df['Temp'].groupby([weather_df['Year'],weather_df['Month'],weather_df['Day']]).mean()}).reset_index()\n",
    "test_weather_df.head()"
   ]
  },
  {
   "cell_type": "code",
   "execution_count": 18,
   "metadata": {
    "collapsed": false
   },
   "outputs": [
    {
     "data": {
      "text/html": [
       "<div>\n",
       "<table border=\"1\" class=\"dataframe\">\n",
       "  <thead>\n",
       "    <tr style=\"text-align: right;\">\n",
       "      <th></th>\n",
       "      <th>PRCP</th>\n",
       "      <th>SNOW</th>\n",
       "      <th>Year</th>\n",
       "      <th>Month</th>\n",
       "      <th>Day</th>\n",
       "      <th>avg_temp</th>\n",
       "    </tr>\n",
       "  </thead>\n",
       "  <tbody>\n",
       "    <tr>\n",
       "      <th>0</th>\n",
       "      <td>213</td>\n",
       "      <td>0</td>\n",
       "      <td>2013</td>\n",
       "      <td>7</td>\n",
       "      <td>1</td>\n",
       "      <td>22.808475</td>\n",
       "    </tr>\n",
       "    <tr>\n",
       "      <th>1</th>\n",
       "      <td>20</td>\n",
       "      <td>0</td>\n",
       "      <td>2013</td>\n",
       "      <td>7</td>\n",
       "      <td>2</td>\n",
       "      <td>22.888000</td>\n",
       "    </tr>\n",
       "    <tr>\n",
       "      <th>2</th>\n",
       "      <td>135</td>\n",
       "      <td>0</td>\n",
       "      <td>2013</td>\n",
       "      <td>7</td>\n",
       "      <td>3</td>\n",
       "      <td>23.530556</td>\n",
       "    </tr>\n",
       "    <tr>\n",
       "      <th>3</th>\n",
       "      <td>0</td>\n",
       "      <td>0</td>\n",
       "      <td>2013</td>\n",
       "      <td>7</td>\n",
       "      <td>4</td>\n",
       "      <td>25.092500</td>\n",
       "    </tr>\n",
       "    <tr>\n",
       "      <th>4</th>\n",
       "      <td>0</td>\n",
       "      <td>0</td>\n",
       "      <td>2013</td>\n",
       "      <td>7</td>\n",
       "      <td>5</td>\n",
       "      <td>25.981250</td>\n",
       "    </tr>\n",
       "  </tbody>\n",
       "</table>\n",
       "</div>"
      ],
      "text/plain": [
       "  PRCP SNOW  Year  Month  Day   avg_temp\n",
       "0  213    0  2013      7    1  22.808475\n",
       "1   20    0  2013      7    2  22.888000\n",
       "2  135    0  2013      7    3  23.530556\n",
       "3    0    0  2013      7    4  25.092500\n",
       "4    0    0  2013      7    5  25.981250"
      ]
     },
     "execution_count": 18,
     "metadata": {},
     "output_type": "execute_result"
    }
   ],
   "source": [
    "test_weather_df = pandas.merge(prcp_df,test_weather_df,on=['Year','Month','Day'])\n",
    "test_weather_df.head()"
   ]
  },
  {
   "cell_type": "code",
   "execution_count": 19,
   "metadata": {
    "collapsed": false
   },
   "outputs": [
    {
     "data": {
      "text/html": [
       "<div>\n",
       "<table border=\"1\" class=\"dataframe\">\n",
       "  <thead>\n",
       "    <tr style=\"text-align: right;\">\n",
       "      <th></th>\n",
       "      <th>starttime</th>\n",
       "      <th>start station name</th>\n",
       "      <th>end station name</th>\n",
       "      <th>Year</th>\n",
       "      <th>Month</th>\n",
       "      <th>Day</th>\n",
       "      <th>PRCP</th>\n",
       "      <th>SNOW</th>\n",
       "      <th>avg_temp</th>\n",
       "    </tr>\n",
       "  </thead>\n",
       "  <tbody>\n",
       "    <tr>\n",
       "      <th>0</th>\n",
       "      <td>2013-07-01 00:00:00</td>\n",
       "      <td>E 47 St &amp; 2 Ave</td>\n",
       "      <td>1 Ave &amp; E 15 St</td>\n",
       "      <td>2013</td>\n",
       "      <td>7</td>\n",
       "      <td>1</td>\n",
       "      <td>213</td>\n",
       "      <td>0</td>\n",
       "      <td>22.808475</td>\n",
       "    </tr>\n",
       "    <tr>\n",
       "      <th>1</th>\n",
       "      <td>2013-07-01 00:00:02</td>\n",
       "      <td>W 26 St &amp; 10 Ave</td>\n",
       "      <td>W 20 St &amp; 11 Ave</td>\n",
       "      <td>2013</td>\n",
       "      <td>7</td>\n",
       "      <td>1</td>\n",
       "      <td>213</td>\n",
       "      <td>0</td>\n",
       "      <td>22.808475</td>\n",
       "    </tr>\n",
       "    <tr>\n",
       "      <th>2</th>\n",
       "      <td>2013-07-01 00:01:04</td>\n",
       "      <td>Lafayette St &amp; E 8 St</td>\n",
       "      <td>E 11 St &amp; 2 Ave</td>\n",
       "      <td>2013</td>\n",
       "      <td>7</td>\n",
       "      <td>1</td>\n",
       "      <td>213</td>\n",
       "      <td>0</td>\n",
       "      <td>22.808475</td>\n",
       "    </tr>\n",
       "    <tr>\n",
       "      <th>3</th>\n",
       "      <td>2013-07-01 00:01:06</td>\n",
       "      <td>Forsyth St &amp; Broome St</td>\n",
       "      <td>Broadway &amp; W 60 St</td>\n",
       "      <td>2013</td>\n",
       "      <td>7</td>\n",
       "      <td>1</td>\n",
       "      <td>213</td>\n",
       "      <td>0</td>\n",
       "      <td>22.808475</td>\n",
       "    </tr>\n",
       "    <tr>\n",
       "      <th>4</th>\n",
       "      <td>2013-07-01 00:01:10</td>\n",
       "      <td>University Pl &amp; E 14 St</td>\n",
       "      <td>Suffolk St &amp; Stanton St</td>\n",
       "      <td>2013</td>\n",
       "      <td>7</td>\n",
       "      <td>1</td>\n",
       "      <td>213</td>\n",
       "      <td>0</td>\n",
       "      <td>22.808475</td>\n",
       "    </tr>\n",
       "  </tbody>\n",
       "</table>\n",
       "</div>"
      ],
      "text/plain": [
       "            starttime       start station name         end station name  Year  \\\n",
       "0 2013-07-01 00:00:00          E 47 St & 2 Ave          1 Ave & E 15 St  2013   \n",
       "1 2013-07-01 00:00:02         W 26 St & 10 Ave         W 20 St & 11 Ave  2013   \n",
       "2 2013-07-01 00:01:04    Lafayette St & E 8 St          E 11 St & 2 Ave  2013   \n",
       "3 2013-07-01 00:01:06   Forsyth St & Broome St       Broadway & W 60 St  2013   \n",
       "4 2013-07-01 00:01:10  University Pl & E 14 St  Suffolk St & Stanton St  2013   \n",
       "\n",
       "   Month  Day PRCP SNOW   avg_temp  \n",
       "0      7    1  213    0  22.808475  \n",
       "1      7    1  213    0  22.808475  \n",
       "2      7    1  213    0  22.808475  \n",
       "3      7    1  213    0  22.808475  \n",
       "4      7    1  213    0  22.808475  "
      ]
     },
     "execution_count": 19,
     "metadata": {},
     "output_type": "execute_result"
    }
   ],
   "source": [
    "result = pandas.merge(df,test_weather_df,on=['Year','Month','Day'])\n",
    "result.head()"
   ]
  },
  {
   "cell_type": "code",
   "execution_count": 21,
   "metadata": {
    "collapsed": false
   },
   "outputs": [
    {
     "data": {
      "text/html": [
       "<div>\n",
       "<table border=\"1\" class=\"dataframe\">\n",
       "  <thead>\n",
       "    <tr style=\"text-align: right;\">\n",
       "      <th></th>\n",
       "      <th>starttime</th>\n",
       "      <th>start station name</th>\n",
       "      <th>end station name</th>\n",
       "      <th>Year</th>\n",
       "      <th>Month</th>\n",
       "      <th>Day</th>\n",
       "      <th>PRCP</th>\n",
       "      <th>SNOW</th>\n",
       "      <th>avg_temp</th>\n",
       "      <th>weekday</th>\n",
       "    </tr>\n",
       "  </thead>\n",
       "  <tbody>\n",
       "    <tr>\n",
       "      <th>0</th>\n",
       "      <td>2013-07-01 00:00:00</td>\n",
       "      <td>E 47 St &amp; 2 Ave</td>\n",
       "      <td>1 Ave &amp; E 15 St</td>\n",
       "      <td>2013</td>\n",
       "      <td>07</td>\n",
       "      <td>01</td>\n",
       "      <td>213</td>\n",
       "      <td>0</td>\n",
       "      <td>22.808475</td>\n",
       "      <td>0</td>\n",
       "    </tr>\n",
       "    <tr>\n",
       "      <th>1</th>\n",
       "      <td>2013-07-01 00:00:02</td>\n",
       "      <td>W 26 St &amp; 10 Ave</td>\n",
       "      <td>W 20 St &amp; 11 Ave</td>\n",
       "      <td>2013</td>\n",
       "      <td>07</td>\n",
       "      <td>01</td>\n",
       "      <td>213</td>\n",
       "      <td>0</td>\n",
       "      <td>22.808475</td>\n",
       "      <td>0</td>\n",
       "    </tr>\n",
       "    <tr>\n",
       "      <th>2</th>\n",
       "      <td>2013-07-01 00:01:04</td>\n",
       "      <td>Lafayette St &amp; E 8 St</td>\n",
       "      <td>E 11 St &amp; 2 Ave</td>\n",
       "      <td>2013</td>\n",
       "      <td>07</td>\n",
       "      <td>01</td>\n",
       "      <td>213</td>\n",
       "      <td>0</td>\n",
       "      <td>22.808475</td>\n",
       "      <td>0</td>\n",
       "    </tr>\n",
       "    <tr>\n",
       "      <th>3</th>\n",
       "      <td>2013-07-01 00:01:06</td>\n",
       "      <td>Forsyth St &amp; Broome St</td>\n",
       "      <td>Broadway &amp; W 60 St</td>\n",
       "      <td>2013</td>\n",
       "      <td>07</td>\n",
       "      <td>01</td>\n",
       "      <td>213</td>\n",
       "      <td>0</td>\n",
       "      <td>22.808475</td>\n",
       "      <td>0</td>\n",
       "    </tr>\n",
       "    <tr>\n",
       "      <th>4</th>\n",
       "      <td>2013-07-01 00:01:10</td>\n",
       "      <td>University Pl &amp; E 14 St</td>\n",
       "      <td>Suffolk St &amp; Stanton St</td>\n",
       "      <td>2013</td>\n",
       "      <td>07</td>\n",
       "      <td>01</td>\n",
       "      <td>213</td>\n",
       "      <td>0</td>\n",
       "      <td>22.808475</td>\n",
       "      <td>0</td>\n",
       "    </tr>\n",
       "  </tbody>\n",
       "</table>\n",
       "</div>"
      ],
      "text/plain": [
       "            starttime       start station name         end station name  Year  \\\n",
       "0 2013-07-01 00:00:00          E 47 St & 2 Ave          1 Ave & E 15 St  2013   \n",
       "1 2013-07-01 00:00:02         W 26 St & 10 Ave         W 20 St & 11 Ave  2013   \n",
       "2 2013-07-01 00:01:04    Lafayette St & E 8 St          E 11 St & 2 Ave  2013   \n",
       "3 2013-07-01 00:01:06   Forsyth St & Broome St       Broadway & W 60 St  2013   \n",
       "4 2013-07-01 00:01:10  University Pl & E 14 St  Suffolk St & Stanton St  2013   \n",
       "\n",
       "  Month Day  PRCP  SNOW   avg_temp weekday  \n",
       "0    07  01   213     0  22.808475       0  \n",
       "1    07  01   213     0  22.808475       0  \n",
       "2    07  01   213     0  22.808475       0  \n",
       "3    07  01   213     0  22.808475       0  \n",
       "4    07  01   213     0  22.808475       0  "
      ]
     },
     "execution_count": 21,
     "metadata": {},
     "output_type": "execute_result"
    }
   ],
   "source": [
    "# add in a new column for weekday\n",
    "result['Month'] = result['Month'].apply('{:0>2}'.format)\n",
    "result['Day'] = result['Day'].apply('{:0>2}'.format)\n",
    "result['weekday'] = result['Year'].map(str)+'-'+result['Month']+'-'+result['Day']\n",
    "result['weekday'] = pandas.to_datetime(result['weekday'], format='%Y-%m-%d')\n",
    "result['weekday'] = result['weekday'].apply(lambda x: x.weekday())\n",
    "#result['neighborhood'] = result['neighborhood'].map(str)\n",
    "#result['avg_temp'] = result['avg_temp'].apply(lambda x: int(round(x)))\n",
    "result['avg_temp'] = result['avg_temp'].apply(lambda x: float(x))\n",
    "result['weekday'] = result['weekday'].apply(lambda x: str(x))\n",
    "result['PRCP'] = result['PRCP'].map(int)\n",
    "result['SNOW'] = result['SNOW'].map(int)\n",
    "result.head()"
   ]
  },
  {
   "cell_type": "markdown",
   "metadata": {},
   "source": [
    "## model"
   ]
  },
  {
   "cell_type": "code",
   "execution_count": 22,
   "metadata": {
    "collapsed": true
   },
   "outputs": [],
   "source": [
    "from sklearn.ensemble import RandomForestClassifier, RandomForestRegressor\n",
    "import numpy as np\n",
    "from sklearn.preprocessing import OneHotEncoder\n",
    "from sklearn.cross_validation import train_test_split\n",
    "from sklearn.naive_bayes import GaussianNB\n",
    "from sklearn import svm\n",
    "from sklearn.feature_extraction import DictVectorizer as DV\n",
    "\n",
    "#X = result.as_matrix(columns=['neighborhood', 'avg_temp', 'weekday'])\n",
    "#y = result['count'].values\n",
    "X = result[['start station name', 'avg_temp', 'weekday','PRCP','SNOW']]\n",
    "y = result['end station name']\n",
    "\n",
    "#one-hot encoding\n",
    "#enc = OneHotEncoder(categorical_features='all', sparse=True)\n",
    "vectorizer = DV(sparse=False)\n",
    "X = X[['start station name','avg_temp','weekday','PRCP','SNOW']].T.to_dict().values()\n",
    "X = vectorizer.fit_transform(X)\n",
    "y = y.values\n",
    "\n",
    "#split the data\n",
    "X_train, X_test, y_train, y_test = train_test_split(X, y, test_size=0.3)"
   ]
  },
  {
   "cell_type": "code",
   "execution_count": 31,
   "metadata": {
    "collapsed": false
   },
   "outputs": [
    {
     "name": "stdout",
     "output_type": "stream",
     "text": [
      "(590391L, 339L)\n",
      "843416\n"
     ]
    }
   ],
   "source": [
    "print X_train.shape\n",
    "print len(y)"
   ]
  },
  {
   "cell_type": "code",
   "execution_count": null,
   "metadata": {
    "collapsed": false
   },
   "outputs": [],
   "source": [
    "from sklearn.cross_validation import cross_val_score, train_test_split, KFold\n",
    "from sklearn.neighbors import KNeighborsClassifier\n",
    "from sklearn.grid_search import GridSearchCV\n",
    "\n",
    "## set the parameters by cross-validation                                                                                                                          \n",
    "cv = KFold(n=len(X_train), n_folds=10, shuffle=True)\n",
    "param_grid = {'n_neighbors':[5, 10, 20, 30, 40, 50, 60, 70, 80, 90]}\n",
    "grid = GridSearchCV(KNeighborsClassifier(), param_grid=param_grid, cv=cv)\n",
    "gridfit = grid.fit(X_train, y_train)\n",
    "#bestparam = int(grid.best_params_['n_neighbors'])\n",
    "#print bestparam\n",
    "\n",
    "#fitter = KNeighborsRegressor(n_neighbors=bestparam)\n",
    "#fitter.fit(X_t, y)"
   ]
  },
  {
   "cell_type": "markdown",
   "metadata": {
    "collapsed": true
   },
   "source": [
    "## try leaving out the weather info"
   ]
  },
  {
   "cell_type": "code",
   "execution_count": 8,
   "metadata": {
    "collapsed": true
   },
   "outputs": [],
   "source": [
    "# add in a new column for weekday\n",
    "result = df\n",
    "result['Month'] = result['Month'].apply('{:0>2}'.format)\n",
    "result['Day'] = result['Day'].apply('{:0>2}'.format)\n",
    "result['hour'] = df['starttime'].apply(lambda x: x.hour)\n",
    "result['weekday'] = result['Year'].map(str)+'-'+result['Month']+'-'+result['Day']\n",
    "result['weekday'] = pandas.to_datetime(result['weekday'], format='%Y-%m-%d')\n",
    "result['weekday'] = result['weekday'].apply(lambda x: str(x.weekday()))"
   ]
  },
  {
   "cell_type": "code",
   "execution_count": 9,
   "metadata": {
    "collapsed": false
   },
   "outputs": [
    {
     "data": {
      "text/html": [
       "<div>\n",
       "<table border=\"1\" class=\"dataframe\">\n",
       "  <thead>\n",
       "    <tr style=\"text-align: right;\">\n",
       "      <th></th>\n",
       "      <th>starttime</th>\n",
       "      <th>start station name</th>\n",
       "      <th>end station name</th>\n",
       "      <th>Year</th>\n",
       "      <th>Month</th>\n",
       "      <th>Day</th>\n",
       "      <th>weekday</th>\n",
       "      <th>hour</th>\n",
       "    </tr>\n",
       "  </thead>\n",
       "  <tbody>\n",
       "    <tr>\n",
       "      <th>0</th>\n",
       "      <td>2013-07-01 00:00:00</td>\n",
       "      <td>E 47 St &amp; 2 Ave</td>\n",
       "      <td>1 Ave &amp; E 15 St</td>\n",
       "      <td>2013</td>\n",
       "      <td>07</td>\n",
       "      <td>01</td>\n",
       "      <td>0</td>\n",
       "      <td>0</td>\n",
       "    </tr>\n",
       "    <tr>\n",
       "      <th>1</th>\n",
       "      <td>2013-07-01 00:00:02</td>\n",
       "      <td>W 26 St &amp; 10 Ave</td>\n",
       "      <td>W 20 St &amp; 11 Ave</td>\n",
       "      <td>2013</td>\n",
       "      <td>07</td>\n",
       "      <td>01</td>\n",
       "      <td>0</td>\n",
       "      <td>0</td>\n",
       "    </tr>\n",
       "    <tr>\n",
       "      <th>2</th>\n",
       "      <td>2013-07-01 00:01:04</td>\n",
       "      <td>Lafayette St &amp; E 8 St</td>\n",
       "      <td>E 11 St &amp; 2 Ave</td>\n",
       "      <td>2013</td>\n",
       "      <td>07</td>\n",
       "      <td>01</td>\n",
       "      <td>0</td>\n",
       "      <td>0</td>\n",
       "    </tr>\n",
       "    <tr>\n",
       "      <th>3</th>\n",
       "      <td>2013-07-01 00:01:06</td>\n",
       "      <td>Forsyth St &amp; Broome St</td>\n",
       "      <td>Broadway &amp; W 60 St</td>\n",
       "      <td>2013</td>\n",
       "      <td>07</td>\n",
       "      <td>01</td>\n",
       "      <td>0</td>\n",
       "      <td>0</td>\n",
       "    </tr>\n",
       "    <tr>\n",
       "      <th>4</th>\n",
       "      <td>2013-07-01 00:01:10</td>\n",
       "      <td>University Pl &amp; E 14 St</td>\n",
       "      <td>Suffolk St &amp; Stanton St</td>\n",
       "      <td>2013</td>\n",
       "      <td>07</td>\n",
       "      <td>01</td>\n",
       "      <td>0</td>\n",
       "      <td>0</td>\n",
       "    </tr>\n",
       "  </tbody>\n",
       "</table>\n",
       "</div>"
      ],
      "text/plain": [
       "            starttime       start station name         end station name  Year  \\\n",
       "0 2013-07-01 00:00:00          E 47 St & 2 Ave          1 Ave & E 15 St  2013   \n",
       "1 2013-07-01 00:00:02         W 26 St & 10 Ave         W 20 St & 11 Ave  2013   \n",
       "2 2013-07-01 00:01:04    Lafayette St & E 8 St          E 11 St & 2 Ave  2013   \n",
       "3 2013-07-01 00:01:06   Forsyth St & Broome St       Broadway & W 60 St  2013   \n",
       "4 2013-07-01 00:01:10  University Pl & E 14 St  Suffolk St & Stanton St  2013   \n",
       "\n",
       "  Month Day weekday  hour  \n",
       "0    07  01       0     0  \n",
       "1    07  01       0     0  \n",
       "2    07  01       0     0  \n",
       "3    07  01       0     0  \n",
       "4    07  01       0     0  "
      ]
     },
     "execution_count": 9,
     "metadata": {},
     "output_type": "execute_result"
    }
   ],
   "source": [
    "result.head()"
   ]
  },
  {
   "cell_type": "code",
   "execution_count": 10,
   "metadata": {
    "collapsed": false
   },
   "outputs": [],
   "source": [
    "from sklearn.ensemble import RandomForestClassifier, RandomForestRegressor\n",
    "import numpy as np\n",
    "from sklearn.preprocessing import OneHotEncoder\n",
    "from sklearn.cross_validation import train_test_split\n",
    "from sklearn.naive_bayes import GaussianNB\n",
    "from sklearn import svm\n",
    "from sklearn.feature_extraction import DictVectorizer as DV\n",
    "\n",
    "#X = result.as_matrix(columns=['neighborhood', 'avg_temp', 'weekday'])\n",
    "#y = result['count'].values\n",
    "X = result[['start station name', 'hour', 'weekday']]\n",
    "y = result['end station name']\n",
    "\n",
    "#one-hot encoding\n",
    "#enc = OneHotEncoder(categorical_features='all', sparse=True)\n",
    "vectorizer = DV(sparse=True)\n",
    "X = X[['start station name','hour', 'weekday']].T.to_dict().values()\n",
    "X = vectorizer.fit_transform(X)\n",
    "y = y.values\n",
    "\n",
    "#split the data\n",
    "X_train, X_test, y_train, y_test = train_test_split(X, y, test_size=0.3)"
   ]
  },
  {
   "cell_type": "code",
   "execution_count": 15,
   "metadata": {
    "collapsed": false
   },
   "outputs": [
    {
     "data": {
      "text/plain": [
       "KNeighborsClassifier(algorithm='auto', leaf_size=30, metric='minkowski',\n",
       "           metric_params=None, n_neighbors=10, p=2, weights='uniform')"
      ]
     },
     "execution_count": 15,
     "metadata": {},
     "output_type": "execute_result"
    }
   ],
   "source": [
    "from sklearn.cross_validation import cross_val_score, train_test_split, KFold\n",
    "from sklearn.neighbors import KNeighborsClassifier\n",
    "from sklearn.grid_search import GridSearchCV\n",
    "\n",
    "## set the parameters by cross-validation                                                                                                                          \n",
    "#cv = KFold(n=len(y_train), n_folds=3, shuffle=True)\n",
    "#param_grid = {'n_neighbors':[5, 10, 25]}\n",
    "#grid = GridSearchCV(KNeighborsClassifier(), param_grid=param_grid, cv=cv)\n",
    "#gridfit = grid.fit(X_train, y_train)\n",
    "knn = KNeighborsClassifier(n_neighbors=10)\n",
    "knn.fit(X_train, y_train)"
   ]
  },
  {
   "cell_type": "code",
   "execution_count": 25,
   "metadata": {
    "collapsed": false
   },
   "outputs": [
    {
     "name": "stdout",
     "output_type": "stream",
     "text": [
      "2 Ave & E 31 St\n",
      "Barclay St & Church St\n"
     ]
    }
   ],
   "source": [
    "print knn.predict(X_test[4])[0]\n",
    "print y_test[4]"
   ]
  },
  {
   "cell_type": "code",
   "execution_count": 26,
   "metadata": {
    "collapsed": false
   },
   "outputs": [
    {
     "data": {
      "text/plain": [
       "0.059999999999999998"
      ]
     },
     "execution_count": 26,
     "metadata": {},
     "output_type": "execute_result"
    }
   ],
   "source": [
    "knn.score(X_test[0:100], y_test[0:100])"
   ]
  },
  {
   "cell_type": "code",
   "execution_count": null,
   "metadata": {
    "collapsed": true
   },
   "outputs": [],
   "source": []
  }
 ],
 "metadata": {
  "kernelspec": {
   "display_name": "Python 2",
   "language": "python",
   "name": "python2"
  },
  "language_info": {
   "codemirror_mode": {
    "name": "ipython",
    "version": 2
   },
   "file_extension": ".py",
   "mimetype": "text/x-python",
   "name": "python",
   "nbconvert_exporter": "python",
   "pygments_lexer": "ipython2",
   "version": "2.7.11"
  }
 },
 "nbformat": 4,
 "nbformat_minor": 0
}
